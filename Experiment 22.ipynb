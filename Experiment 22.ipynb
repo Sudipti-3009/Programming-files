{
 "cells": [
  {
   "cell_type": "code",
   "execution_count": 2,
   "id": "82688952",
   "metadata": {},
   "outputs": [],
   "source": [
    "import pandas as pd\n",
    "import xlrd\n",
    "import openpyxl\n",
    "import numpy as np"
   ]
  },
  {
   "cell_type": "code",
   "execution_count": 3,
   "id": "aa5f26a5",
   "metadata": {},
   "outputs": [],
   "source": [
    "xls = pd.ExcelFile('Experiment_22.xlsx')"
   ]
  },
  {
   "cell_type": "code",
   "execution_count": 4,
   "id": "bda18ca9",
   "metadata": {},
   "outputs": [
    {
     "name": "stdout",
     "output_type": "stream",
     "text": [
      "<pandas.io.excel._base.ExcelFile object at 0x000001EE59CD8370>\n"
     ]
    }
   ],
   "source": [
    "print(xls)"
   ]
  },
  {
   "cell_type": "code",
   "execution_count": 5,
   "id": "eba92970",
   "metadata": {},
   "outputs": [],
   "source": [
    "df = xls.parse('Sheet1')"
   ]
  },
  {
   "cell_type": "code",
   "execution_count": 6,
   "id": "5fc8ec63",
   "metadata": {},
   "outputs": [
    {
     "name": "stdout",
     "output_type": "stream",
     "text": [
      "               Name  Maths  Science\n",
      "0     Aarfa Hussain     17       18\n",
      "1         Akira Rai     20       19\n",
      "2       Alizeh Khan     20       11\n",
      "3    Anushka Sharma     19       20\n",
      "4   Bijilee Mandola     14       15\n",
      "5      Bulbul Singh     13       15\n",
      "6         Farah Ali     14       14\n",
      "7      Ishika Desai     15        1\n",
      "8      Jagat Janini     19        3\n",
      "9             Mamta     17        5\n",
      "10            Meera     18       14\n",
      "11    Rosie Noronha     16        8\n",
      "12         Rukhsana     14       15\n",
      "13     Sejal Zaveri     10       16\n",
      "14    Shashi Kumari      2        1\n",
      "15    Shruti Kakkar      5        4\n",
      "16   Simran Chaggal     11       12\n",
      "17     Taani Sahini     10       10\n",
      "18      Winnie Diaz     15       15\n"
     ]
    }
   ],
   "source": [
    "print(df)"
   ]
  },
  {
   "cell_type": "code",
   "execution_count": 7,
   "id": "cb8f02f9",
   "metadata": {},
   "outputs": [
    {
     "name": "stdout",
     "output_type": "stream",
     "text": [
      "[17 20 20 19 14 13 14 15 19 17 18 16 14 10  2  5 11 10 15]\n"
     ]
    }
   ],
   "source": [
    "marks = np.array(df['Maths'])\n",
    "print(marks)"
   ]
  },
  {
   "cell_type": "code",
   "execution_count": 8,
   "id": "c1396859",
   "metadata": {},
   "outputs": [
    {
     "name": "stdout",
     "output_type": "stream",
     "text": [
      "Average marks in maths :        14.157894736842104\n",
      "Minimum marks in maths:     2\n",
      "Maximum marks in maths:     20\n"
     ]
    }
   ],
   "source": [
    "print(\"Average marks in maths :       \", marks.mean())\n",
    "print(\"Minimum marks in maths:    \", marks.min())\n",
    "print(\"Maximum marks in maths:    \", marks.max())"
   ]
  },
  {
   "cell_type": "code",
   "execution_count": 9,
   "id": "14d1ef06",
   "metadata": {},
   "outputs": [],
   "source": [
    "maths = np.array(df['Maths'])\n",
    "\n",
    "science = np.array(df['Science'])\n",
    "\n",
    "\n"
   ]
  },
  {
   "cell_type": "code",
   "execution_count": 10,
   "id": "3693d06c",
   "metadata": {},
   "outputs": [
    {
     "data": {
      "text/plain": [
       "array([17, 20, 20, 19, 14, 13, 14, 15, 19, 17, 18, 16, 14, 10,  2,  5, 11,\n",
       "       10, 15], dtype=int64)"
      ]
     },
     "execution_count": 10,
     "metadata": {},
     "output_type": "execute_result"
    }
   ],
   "source": [
    "maths"
   ]
  },
  {
   "cell_type": "code",
   "execution_count": 11,
   "id": "6ef3a552",
   "metadata": {},
   "outputs": [
    {
     "data": {
      "text/plain": [
       "array([18, 19, 11, 20, 15, 15, 14,  1,  3,  5, 14,  8, 15, 16,  1,  4, 12,\n",
       "       10, 15], dtype=int64)"
      ]
     },
     "execution_count": 11,
     "metadata": {},
     "output_type": "execute_result"
    }
   ],
   "source": [
    "science"
   ]
  },
  {
   "cell_type": "code",
   "execution_count": 12,
   "id": "0bc0dae7",
   "metadata": {},
   "outputs": [
    {
     "data": {
      "text/plain": [
       "array([35, 39, 31, 39, 29, 28, 28, 16, 22, 22, 32, 24, 29, 26,  3,  9, 23,\n",
       "       20, 30], dtype=int64)"
      ]
     },
     "execution_count": 12,
     "metadata": {},
     "output_type": "execute_result"
    }
   ],
   "source": [
    "maths+science"
   ]
  },
  {
   "cell_type": "code",
   "execution_count": 13,
   "id": "ea13863b",
   "metadata": {},
   "outputs": [],
   "source": [
    "sum_of_marks=df[\"Maths\"] + df[\"Science\"]\n",
    "df['Sum']= sum_of_marks"
   ]
  },
  {
   "cell_type": "code",
   "execution_count": 14,
   "id": "f374db33",
   "metadata": {},
   "outputs": [
    {
     "data": {
      "text/plain": [
       "0     35\n",
       "1     39\n",
       "2     31\n",
       "3     39\n",
       "4     29\n",
       "5     28\n",
       "6     28\n",
       "7     16\n",
       "8     22\n",
       "9     22\n",
       "10    32\n",
       "11    24\n",
       "12    29\n",
       "13    26\n",
       "14     3\n",
       "15     9\n",
       "16    23\n",
       "17    20\n",
       "18    30\n",
       "Name: Sum, dtype: int64"
      ]
     },
     "execution_count": 14,
     "metadata": {},
     "output_type": "execute_result"
    }
   ],
   "source": [
    "df['Sum']"
   ]
  },
  {
   "cell_type": "code",
   "execution_count": 15,
   "id": "df1abbbc",
   "metadata": {},
   "outputs": [
    {
     "data": {
      "text/html": [
       "<div>\n",
       "<style scoped>\n",
       "    .dataframe tbody tr th:only-of-type {\n",
       "        vertical-align: middle;\n",
       "    }\n",
       "\n",
       "    .dataframe tbody tr th {\n",
       "        vertical-align: top;\n",
       "    }\n",
       "\n",
       "    .dataframe thead th {\n",
       "        text-align: right;\n",
       "    }\n",
       "</style>\n",
       "<table border=\"1\" class=\"dataframe\">\n",
       "  <thead>\n",
       "    <tr style=\"text-align: right;\">\n",
       "      <th></th>\n",
       "      <th>Name</th>\n",
       "      <th>Maths</th>\n",
       "      <th>Science</th>\n",
       "      <th>Sum</th>\n",
       "    </tr>\n",
       "  </thead>\n",
       "  <tbody>\n",
       "    <tr>\n",
       "      <th>0</th>\n",
       "      <td>Aarfa Hussain</td>\n",
       "      <td>17</td>\n",
       "      <td>18</td>\n",
       "      <td>35</td>\n",
       "    </tr>\n",
       "    <tr>\n",
       "      <th>1</th>\n",
       "      <td>Akira Rai</td>\n",
       "      <td>20</td>\n",
       "      <td>19</td>\n",
       "      <td>39</td>\n",
       "    </tr>\n",
       "    <tr>\n",
       "      <th>2</th>\n",
       "      <td>Alizeh Khan</td>\n",
       "      <td>20</td>\n",
       "      <td>11</td>\n",
       "      <td>31</td>\n",
       "    </tr>\n",
       "    <tr>\n",
       "      <th>3</th>\n",
       "      <td>Anushka Sharma</td>\n",
       "      <td>19</td>\n",
       "      <td>20</td>\n",
       "      <td>39</td>\n",
       "    </tr>\n",
       "    <tr>\n",
       "      <th>4</th>\n",
       "      <td>Bijilee Mandola</td>\n",
       "      <td>14</td>\n",
       "      <td>15</td>\n",
       "      <td>29</td>\n",
       "    </tr>\n",
       "  </tbody>\n",
       "</table>\n",
       "</div>"
      ],
      "text/plain": [
       "              Name  Maths  Science  Sum\n",
       "0    Aarfa Hussain     17       18   35\n",
       "1        Akira Rai     20       19   39\n",
       "2      Alizeh Khan     20       11   31\n",
       "3   Anushka Sharma     19       20   39\n",
       "4  Bijilee Mandola     14       15   29"
      ]
     },
     "execution_count": 15,
     "metadata": {},
     "output_type": "execute_result"
    }
   ],
   "source": [
    "df.head()"
   ]
  },
  {
   "cell_type": "code",
   "execution_count": 16,
   "id": "5a320d09",
   "metadata": {},
   "outputs": [
    {
     "data": {
      "text/plain": [
       "Maths    14\n",
       "dtype: int64"
      ]
     },
     "execution_count": 16,
     "metadata": {},
     "output_type": "execute_result"
    }
   ],
   "source": [
    "df[['Maths']].idxmin()"
   ]
  },
  {
   "cell_type": "code",
   "execution_count": 17,
   "id": "fd9b9cdb",
   "metadata": {},
   "outputs": [
    {
     "data": {
      "text/plain": [
       "Maths    1\n",
       "dtype: int64"
      ]
     },
     "execution_count": 17,
     "metadata": {},
     "output_type": "execute_result"
    }
   ],
   "source": [
    "df[['Maths']].idxmax()"
   ]
  },
  {
   "cell_type": "code",
   "execution_count": 18,
   "id": "85de07a1",
   "metadata": {},
   "outputs": [
    {
     "data": {
      "text/plain": [
       "Maths    2\n",
       "dtype: int64"
      ]
     },
     "execution_count": 18,
     "metadata": {},
     "output_type": "execute_result"
    }
   ],
   "source": [
    "df[['Maths']].min()"
   ]
  },
  {
   "cell_type": "code",
   "execution_count": 19,
   "id": "159ce653",
   "metadata": {},
   "outputs": [],
   "source": [
    "Minimum_maths_score = [df[['Maths']].idxmin(),df[['Maths']].min()]"
   ]
  },
  {
   "cell_type": "code",
   "execution_count": 20,
   "id": "d7c26366",
   "metadata": {},
   "outputs": [
    {
     "data": {
      "text/plain": [
       "[Maths    14\n",
       " dtype: int64,\n",
       " Maths    2\n",
       " dtype: int64]"
      ]
     },
     "execution_count": 20,
     "metadata": {},
     "output_type": "execute_result"
    }
   ],
   "source": [
    "Minimum_maths_score "
   ]
  },
  {
   "cell_type": "code",
   "execution_count": 21,
   "id": "05adac32",
   "metadata": {},
   "outputs": [
    {
     "data": {
      "text/plain": [
       "269"
      ]
     },
     "execution_count": 21,
     "metadata": {},
     "output_type": "execute_result"
    }
   ],
   "source": [
    "df['Maths'].sum()"
   ]
  },
  {
   "cell_type": "code",
   "execution_count": 22,
   "id": "4e46d955",
   "metadata": {},
   "outputs": [
    {
     "data": {
      "text/plain": [
       "216"
      ]
     },
     "execution_count": 22,
     "metadata": {},
     "output_type": "execute_result"
    }
   ],
   "source": [
    "df['Science'].sum()"
   ]
  },
  {
   "cell_type": "code",
   "execution_count": 23,
   "id": "3a7abc79",
   "metadata": {},
   "outputs": [
    {
     "data": {
      "text/plain": [
       "2"
      ]
     },
     "execution_count": 23,
     "metadata": {},
     "output_type": "execute_result"
    }
   ],
   "source": [
    "df['Maths'].min()"
   ]
  },
  {
   "cell_type": "code",
   "execution_count": 24,
   "id": "083e6d0f",
   "metadata": {},
   "outputs": [
    {
     "data": {
      "text/plain": [
       "1"
      ]
     },
     "execution_count": 24,
     "metadata": {},
     "output_type": "execute_result"
    }
   ],
   "source": [
    "df['Science'].min()"
   ]
  },
  {
   "cell_type": "code",
   "execution_count": 25,
   "id": "5878e886",
   "metadata": {},
   "outputs": [
    {
     "data": {
      "text/plain": [
       "3"
      ]
     },
     "execution_count": 25,
     "metadata": {},
     "output_type": "execute_result"
    }
   ],
   "source": [
    "df['Science'].idxmax()"
   ]
  },
  {
   "cell_type": "code",
   "execution_count": 26,
   "id": "fafde962",
   "metadata": {},
   "outputs": [
    {
     "data": {
      "text/plain": [
       "14.157894736842104"
      ]
     },
     "execution_count": 26,
     "metadata": {},
     "output_type": "execute_result"
    }
   ],
   "source": [
    "df['Maths'].mean()"
   ]
  },
  {
   "cell_type": "code",
   "execution_count": 27,
   "id": "b2899107",
   "metadata": {},
   "outputs": [
    {
     "data": {
      "text/plain": [
       "11.368421052631579"
      ]
     },
     "execution_count": 27,
     "metadata": {},
     "output_type": "execute_result"
    }
   ],
   "source": [
    "df['Science'].mean()"
   ]
  },
  {
   "cell_type": "code",
   "execution_count": 28,
   "id": "86de75e6",
   "metadata": {},
   "outputs": [
    {
     "data": {
      "text/plain": [
       "15    4\n",
       "1     2\n",
       "14    2\n",
       "3     1\n",
       "4     1\n",
       "5     1\n",
       "8     1\n",
       "10    1\n",
       "11    1\n",
       "12    1\n",
       "16    1\n",
       "18    1\n",
       "19    1\n",
       "20    1\n",
       "Name: Science, dtype: int64"
      ]
     },
     "execution_count": 28,
     "metadata": {},
     "output_type": "execute_result"
    }
   ],
   "source": [
    "df['Science'].value_counts()"
   ]
  },
  {
   "cell_type": "code",
   "execution_count": 29,
   "id": "b6b02d30",
   "metadata": {},
   "outputs": [
    {
     "data": {
      "text/plain": [
       "14    3\n",
       "10    2\n",
       "15    2\n",
       "17    2\n",
       "19    2\n",
       "20    2\n",
       "2     1\n",
       "5     1\n",
       "11    1\n",
       "13    1\n",
       "16    1\n",
       "18    1\n",
       "Name: Maths, dtype: int64"
      ]
     },
     "execution_count": 29,
     "metadata": {},
     "output_type": "execute_result"
    }
   ],
   "source": [
    "df['Maths'].value_counts()"
   ]
  },
  {
   "cell_type": "code",
   "execution_count": 30,
   "id": "0f7942db",
   "metadata": {},
   "outputs": [
    {
     "data": {
      "text/plain": [
       "array([18, 19, 11, 20, 15, 14,  1,  3,  5,  8, 16,  4, 12, 10],\n",
       "      dtype=int64)"
      ]
     },
     "execution_count": 30,
     "metadata": {},
     "output_type": "execute_result"
    }
   ],
   "source": [
    "df['Science'].unique()"
   ]
  },
  {
   "cell_type": "code",
   "execution_count": 31,
   "id": "bedb5fd2",
   "metadata": {},
   "outputs": [
    {
     "data": {
      "text/plain": [
       "array([17, 20, 19, 14, 13, 15, 18, 16, 10,  2,  5, 11], dtype=int64)"
      ]
     },
     "execution_count": 31,
     "metadata": {},
     "output_type": "execute_result"
    }
   ],
   "source": [
    "df['Maths'].unique()"
   ]
  },
  {
   "cell_type": "code",
   "execution_count": 32,
   "id": "cc36ba6b",
   "metadata": {},
   "outputs": [
    {
     "data": {
      "text/plain": [
       "Maths\n",
       "2     1\n",
       "5     1\n",
       "10    2\n",
       "11    1\n",
       "13    1\n",
       "14    3\n",
       "15    2\n",
       "16    1\n",
       "17    2\n",
       "18    1\n",
       "19    2\n",
       "20    2\n",
       "dtype: int64"
      ]
     },
     "execution_count": 32,
     "metadata": {},
     "output_type": "execute_result"
    }
   ],
   "source": [
    "df.pivot_table(index=['Maths'], aggfunc='size')"
   ]
  },
  {
   "cell_type": "code",
   "execution_count": 33,
   "id": "be0b764e",
   "metadata": {},
   "outputs": [],
   "source": [
    "pivot_agg = pd.pivot_table(df,index=['Science','Maths'], values = ['Sum'], aggfunc=[np.sum])"
   ]
  },
  {
   "cell_type": "code",
   "execution_count": 34,
   "id": "7d502dce",
   "metadata": {},
   "outputs": [
    {
     "data": {
      "text/html": [
       "<div>\n",
       "<style scoped>\n",
       "    .dataframe tbody tr th:only-of-type {\n",
       "        vertical-align: middle;\n",
       "    }\n",
       "\n",
       "    .dataframe tbody tr th {\n",
       "        vertical-align: top;\n",
       "    }\n",
       "\n",
       "    .dataframe thead tr th {\n",
       "        text-align: left;\n",
       "    }\n",
       "\n",
       "    .dataframe thead tr:last-of-type th {\n",
       "        text-align: right;\n",
       "    }\n",
       "</style>\n",
       "<table border=\"1\" class=\"dataframe\">\n",
       "  <thead>\n",
       "    <tr>\n",
       "      <th></th>\n",
       "      <th></th>\n",
       "      <th>sum</th>\n",
       "    </tr>\n",
       "    <tr>\n",
       "      <th></th>\n",
       "      <th></th>\n",
       "      <th>Sum</th>\n",
       "    </tr>\n",
       "    <tr>\n",
       "      <th>Science</th>\n",
       "      <th>Maths</th>\n",
       "      <th></th>\n",
       "    </tr>\n",
       "  </thead>\n",
       "  <tbody>\n",
       "    <tr>\n",
       "      <th rowspan=\"2\" valign=\"top\">1</th>\n",
       "      <th>2</th>\n",
       "      <td>3</td>\n",
       "    </tr>\n",
       "    <tr>\n",
       "      <th>15</th>\n",
       "      <td>16</td>\n",
       "    </tr>\n",
       "    <tr>\n",
       "      <th>3</th>\n",
       "      <th>19</th>\n",
       "      <td>22</td>\n",
       "    </tr>\n",
       "    <tr>\n",
       "      <th>4</th>\n",
       "      <th>5</th>\n",
       "      <td>9</td>\n",
       "    </tr>\n",
       "    <tr>\n",
       "      <th>5</th>\n",
       "      <th>17</th>\n",
       "      <td>22</td>\n",
       "    </tr>\n",
       "    <tr>\n",
       "      <th>8</th>\n",
       "      <th>16</th>\n",
       "      <td>24</td>\n",
       "    </tr>\n",
       "    <tr>\n",
       "      <th>10</th>\n",
       "      <th>10</th>\n",
       "      <td>20</td>\n",
       "    </tr>\n",
       "    <tr>\n",
       "      <th>11</th>\n",
       "      <th>20</th>\n",
       "      <td>31</td>\n",
       "    </tr>\n",
       "    <tr>\n",
       "      <th>12</th>\n",
       "      <th>11</th>\n",
       "      <td>23</td>\n",
       "    </tr>\n",
       "    <tr>\n",
       "      <th rowspan=\"2\" valign=\"top\">14</th>\n",
       "      <th>14</th>\n",
       "      <td>28</td>\n",
       "    </tr>\n",
       "    <tr>\n",
       "      <th>18</th>\n",
       "      <td>32</td>\n",
       "    </tr>\n",
       "    <tr>\n",
       "      <th rowspan=\"3\" valign=\"top\">15</th>\n",
       "      <th>13</th>\n",
       "      <td>28</td>\n",
       "    </tr>\n",
       "    <tr>\n",
       "      <th>14</th>\n",
       "      <td>58</td>\n",
       "    </tr>\n",
       "    <tr>\n",
       "      <th>15</th>\n",
       "      <td>30</td>\n",
       "    </tr>\n",
       "    <tr>\n",
       "      <th>16</th>\n",
       "      <th>10</th>\n",
       "      <td>26</td>\n",
       "    </tr>\n",
       "    <tr>\n",
       "      <th>18</th>\n",
       "      <th>17</th>\n",
       "      <td>35</td>\n",
       "    </tr>\n",
       "    <tr>\n",
       "      <th>19</th>\n",
       "      <th>20</th>\n",
       "      <td>39</td>\n",
       "    </tr>\n",
       "    <tr>\n",
       "      <th>20</th>\n",
       "      <th>19</th>\n",
       "      <td>39</td>\n",
       "    </tr>\n",
       "  </tbody>\n",
       "</table>\n",
       "</div>"
      ],
      "text/plain": [
       "              sum\n",
       "              Sum\n",
       "Science Maths    \n",
       "1       2       3\n",
       "        15     16\n",
       "3       19     22\n",
       "4       5       9\n",
       "5       17     22\n",
       "8       16     24\n",
       "10      10     20\n",
       "11      20     31\n",
       "12      11     23\n",
       "14      14     28\n",
       "        18     32\n",
       "15      13     28\n",
       "        14     58\n",
       "        15     30\n",
       "16      10     26\n",
       "18      17     35\n",
       "19      20     39\n",
       "20      19     39"
      ]
     },
     "execution_count": 34,
     "metadata": {},
     "output_type": "execute_result"
    }
   ],
   "source": [
    "pivot_agg\n"
   ]
  },
  {
   "cell_type": "code",
   "execution_count": 35,
   "id": "ec8ea878",
   "metadata": {},
   "outputs": [
    {
     "data": {
      "text/html": [
       "<div>\n",
       "<style scoped>\n",
       "    .dataframe tbody tr th:only-of-type {\n",
       "        vertical-align: middle;\n",
       "    }\n",
       "\n",
       "    .dataframe tbody tr th {\n",
       "        vertical-align: top;\n",
       "    }\n",
       "\n",
       "    .dataframe thead th {\n",
       "        text-align: right;\n",
       "    }\n",
       "</style>\n",
       "<table border=\"1\" class=\"dataframe\">\n",
       "  <thead>\n",
       "    <tr style=\"text-align: right;\">\n",
       "      <th></th>\n",
       "      <th>Maths</th>\n",
       "      <th>Science</th>\n",
       "      <th>Sum</th>\n",
       "    </tr>\n",
       "  </thead>\n",
       "  <tbody>\n",
       "    <tr>\n",
       "      <th>count</th>\n",
       "      <td>19.000000</td>\n",
       "      <td>19.000000</td>\n",
       "      <td>19.000000</td>\n",
       "    </tr>\n",
       "    <tr>\n",
       "      <th>mean</th>\n",
       "      <td>14.157895</td>\n",
       "      <td>11.368421</td>\n",
       "      <td>25.526316</td>\n",
       "    </tr>\n",
       "    <tr>\n",
       "      <th>std</th>\n",
       "      <td>4.879244</td>\n",
       "      <td>6.048053</td>\n",
       "      <td>9.179497</td>\n",
       "    </tr>\n",
       "    <tr>\n",
       "      <th>min</th>\n",
       "      <td>2.000000</td>\n",
       "      <td>1.000000</td>\n",
       "      <td>3.000000</td>\n",
       "    </tr>\n",
       "    <tr>\n",
       "      <th>25%</th>\n",
       "      <td>12.000000</td>\n",
       "      <td>6.500000</td>\n",
       "      <td>22.000000</td>\n",
       "    </tr>\n",
       "    <tr>\n",
       "      <th>50%</th>\n",
       "      <td>15.000000</td>\n",
       "      <td>14.000000</td>\n",
       "      <td>28.000000</td>\n",
       "    </tr>\n",
       "    <tr>\n",
       "      <th>75%</th>\n",
       "      <td>17.500000</td>\n",
       "      <td>15.000000</td>\n",
       "      <td>30.500000</td>\n",
       "    </tr>\n",
       "    <tr>\n",
       "      <th>max</th>\n",
       "      <td>20.000000</td>\n",
       "      <td>20.000000</td>\n",
       "      <td>39.000000</td>\n",
       "    </tr>\n",
       "  </tbody>\n",
       "</table>\n",
       "</div>"
      ],
      "text/plain": [
       "           Maths    Science        Sum\n",
       "count  19.000000  19.000000  19.000000\n",
       "mean   14.157895  11.368421  25.526316\n",
       "std     4.879244   6.048053   9.179497\n",
       "min     2.000000   1.000000   3.000000\n",
       "25%    12.000000   6.500000  22.000000\n",
       "50%    15.000000  14.000000  28.000000\n",
       "75%    17.500000  15.000000  30.500000\n",
       "max    20.000000  20.000000  39.000000"
      ]
     },
     "execution_count": 35,
     "metadata": {},
     "output_type": "execute_result"
    }
   ],
   "source": [
    "df.describe()"
   ]
  },
  {
   "cell_type": "code",
   "execution_count": 37,
   "id": "de8b4c81",
   "metadata": {},
   "outputs": [
    {
     "data": {
      "text/plain": [
       "Name       object\n",
       "Maths       int64\n",
       "Science     int64\n",
       "Sum         int64\n",
       "dtype: object"
      ]
     },
     "execution_count": 37,
     "metadata": {},
     "output_type": "execute_result"
    }
   ],
   "source": [
    "df.dtypes"
   ]
  },
  {
   "cell_type": "code",
   "execution_count": 38,
   "id": "e889426c",
   "metadata": {},
   "outputs": [
    {
     "data": {
      "text/plain": [
       "Index(['Name', 'Maths', 'Science', 'Sum'], dtype='object')"
      ]
     },
     "execution_count": 38,
     "metadata": {},
     "output_type": "execute_result"
    }
   ],
   "source": [
    "df.columns"
   ]
  },
  {
   "cell_type": "code",
   "execution_count": 39,
   "id": "a061d6bf",
   "metadata": {},
   "outputs": [
    {
     "data": {
      "text/plain": [
       "Name       19\n",
       "Maths      19\n",
       "Science    19\n",
       "Sum        19\n",
       "dtype: int64"
      ]
     },
     "execution_count": 39,
     "metadata": {},
     "output_type": "execute_result"
    }
   ],
   "source": [
    "df.count(axis=0)"
   ]
  },
  {
   "cell_type": "code",
   "execution_count": 40,
   "id": "680ecc91",
   "metadata": {},
   "outputs": [
    {
     "data": {
      "text/plain": [
       "Name       Aarfa HussainAkira RaiAlizeh KhanAnushka Sharm...\n",
       "Maths                                                    269\n",
       "Science                                                  216\n",
       "Sum                                                      485\n",
       "dtype: object"
      ]
     },
     "execution_count": 40,
     "metadata": {},
     "output_type": "execute_result"
    }
   ],
   "source": [
    "df.sum(axis=0)"
   ]
  },
  {
   "cell_type": "code",
   "execution_count": 41,
   "id": "25fb24fb",
   "metadata": {},
   "outputs": [
    {
     "data": {
      "text/plain": [
       "<bound method DataFrame.info of                Name  Maths  Science  Sum\n",
       "0     Aarfa Hussain     17       18   35\n",
       "1         Akira Rai     20       19   39\n",
       "2       Alizeh Khan     20       11   31\n",
       "3    Anushka Sharma     19       20   39\n",
       "4   Bijilee Mandola     14       15   29\n",
       "5      Bulbul Singh     13       15   28\n",
       "6         Farah Ali     14       14   28\n",
       "7      Ishika Desai     15        1   16\n",
       "8      Jagat Janini     19        3   22\n",
       "9             Mamta     17        5   22\n",
       "10            Meera     18       14   32\n",
       "11    Rosie Noronha     16        8   24\n",
       "12         Rukhsana     14       15   29\n",
       "13     Sejal Zaveri     10       16   26\n",
       "14    Shashi Kumari      2        1    3\n",
       "15    Shruti Kakkar      5        4    9\n",
       "16   Simran Chaggal     11       12   23\n",
       "17     Taani Sahini     10       10   20\n",
       "18      Winnie Diaz     15       15   30>"
      ]
     },
     "execution_count": 41,
     "metadata": {},
     "output_type": "execute_result"
    }
   ],
   "source": [
    "df.info"
   ]
  },
  {
   "cell_type": "code",
   "execution_count": 42,
   "id": "b3d9735a",
   "metadata": {},
   "outputs": [
    {
     "data": {
      "text/plain": [
       "<bound method NDFrame.tail of                Name  Maths  Science  Sum\n",
       "0     Aarfa Hussain     17       18   35\n",
       "1         Akira Rai     20       19   39\n",
       "2       Alizeh Khan     20       11   31\n",
       "3    Anushka Sharma     19       20   39\n",
       "4   Bijilee Mandola     14       15   29\n",
       "5      Bulbul Singh     13       15   28\n",
       "6         Farah Ali     14       14   28\n",
       "7      Ishika Desai     15        1   16\n",
       "8      Jagat Janini     19        3   22\n",
       "9             Mamta     17        5   22\n",
       "10            Meera     18       14   32\n",
       "11    Rosie Noronha     16        8   24\n",
       "12         Rukhsana     14       15   29\n",
       "13     Sejal Zaveri     10       16   26\n",
       "14    Shashi Kumari      2        1    3\n",
       "15    Shruti Kakkar      5        4    9\n",
       "16   Simran Chaggal     11       12   23\n",
       "17     Taani Sahini     10       10   20\n",
       "18      Winnie Diaz     15       15   30>"
      ]
     },
     "execution_count": 42,
     "metadata": {},
     "output_type": "execute_result"
    }
   ],
   "source": [
    "df.tail"
   ]
  },
  {
   "cell_type": "code",
   "execution_count": 43,
   "id": "b2589abb",
   "metadata": {},
   "outputs": [
    {
     "data": {
      "text/plain": [
       "Maths      14.157895\n",
       "Science    11.368421\n",
       "Sum        25.526316\n",
       "dtype: float64"
      ]
     },
     "execution_count": 43,
     "metadata": {},
     "output_type": "execute_result"
    }
   ],
   "source": [
    "df.mean(axis=0)"
   ]
  },
  {
   "cell_type": "code",
   "execution_count": 44,
   "id": "ec407e77",
   "metadata": {},
   "outputs": [
    {
     "data": {
      "text/plain": [
       "Name       Winnie Diaz\n",
       "Maths               20\n",
       "Science             20\n",
       "Sum                 39\n",
       "dtype: object"
      ]
     },
     "execution_count": 44,
     "metadata": {},
     "output_type": "execute_result"
    }
   ],
   "source": [
    "df.max(axis=0)"
   ]
  },
  {
   "cell_type": "code",
   "execution_count": 45,
   "id": "df82e95f",
   "metadata": {},
   "outputs": [
    {
     "data": {
      "text/plain": [
       "Maths      15.0\n",
       "Science    14.0\n",
       "Sum        28.0\n",
       "dtype: float64"
      ]
     },
     "execution_count": 45,
     "metadata": {},
     "output_type": "execute_result"
    }
   ],
   "source": [
    "df.median(axis=0)"
   ]
  },
  {
   "cell_type": "code",
   "execution_count": 50,
   "id": "d3d18d8d",
   "metadata": {},
   "outputs": [
    {
     "data": {
      "text/plain": [
       "14.157894736842104"
      ]
     },
     "execution_count": 50,
     "metadata": {},
     "output_type": "execute_result"
    }
   ],
   "source": [
    "df['Maths'].mean()"
   ]
  },
  {
   "cell_type": "code",
   "execution_count": 51,
   "id": "e1f71b80",
   "metadata": {},
   "outputs": [
    {
     "data": {
      "text/plain": [
       "11.368421052631579"
      ]
     },
     "execution_count": 51,
     "metadata": {},
     "output_type": "execute_result"
    }
   ],
   "source": [
    "df['Science'].mean()"
   ]
  },
  {
   "cell_type": "code",
   "execution_count": 52,
   "id": "dcc2e43d",
   "metadata": {},
   "outputs": [
    {
     "data": {
      "text/plain": [
       "269"
      ]
     },
     "execution_count": 52,
     "metadata": {},
     "output_type": "execute_result"
    }
   ],
   "source": [
    "df['Maths'].sum()"
   ]
  },
  {
   "cell_type": "code",
   "execution_count": 53,
   "id": "29be253b",
   "metadata": {},
   "outputs": [
    {
     "data": {
      "text/plain": [
       "216"
      ]
     },
     "execution_count": 53,
     "metadata": {},
     "output_type": "execute_result"
    }
   ],
   "source": [
    "df['Science'].sum()"
   ]
  },
  {
   "cell_type": "code",
   "execution_count": 54,
   "id": "09058f91",
   "metadata": {},
   "outputs": [
    {
     "data": {
      "text/plain": [
       "2"
      ]
     },
     "execution_count": 54,
     "metadata": {},
     "output_type": "execute_result"
    }
   ],
   "source": [
    "df['Maths'].min()"
   ]
  },
  {
   "cell_type": "code",
   "execution_count": 55,
   "id": "11135279",
   "metadata": {},
   "outputs": [
    {
     "data": {
      "text/plain": [
       "20"
      ]
     },
     "execution_count": 55,
     "metadata": {},
     "output_type": "execute_result"
    }
   ],
   "source": [
    "df['Maths'].max()"
   ]
  },
  {
   "cell_type": "code",
   "execution_count": 57,
   "id": "b3a94847",
   "metadata": {},
   "outputs": [
    {
     "data": {
      "text/plain": [
       "1"
      ]
     },
     "execution_count": 57,
     "metadata": {},
     "output_type": "execute_result"
    }
   ],
   "source": [
    "df['Science'].min()"
   ]
  },
  {
   "cell_type": "code",
   "execution_count": 58,
   "id": "63bfdb5c",
   "metadata": {},
   "outputs": [
    {
     "data": {
      "text/plain": [
       "20"
      ]
     },
     "execution_count": 58,
     "metadata": {},
     "output_type": "execute_result"
    }
   ],
   "source": [
    "df['Science'].max()"
   ]
  },
  {
   "cell_type": "code",
   "execution_count": null,
   "id": "79a48ae2",
   "metadata": {},
   "outputs": [],
   "source": []
  }
 ],
 "metadata": {
  "kernelspec": {
   "display_name": "Python 3",
   "language": "python",
   "name": "python3"
  },
  "language_info": {
   "codemirror_mode": {
    "name": "ipython",
    "version": 3
   },
   "file_extension": ".py",
   "mimetype": "text/x-python",
   "name": "python",
   "nbconvert_exporter": "python",
   "pygments_lexer": "ipython3",
   "version": "3.8.10"
  }
 },
 "nbformat": 4,
 "nbformat_minor": 5
}
